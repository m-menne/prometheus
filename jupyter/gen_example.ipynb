{
 "cells": [
  {
   "cell_type": "markdown",
   "metadata": {},
   "source": [
    "# Data Generation Example"
   ]
  },
  {
   "cell_type": "code",
   "execution_count": 1,
   "metadata": {},
   "outputs": [],
   "source": [
    "import sys\n",
    "import numpy as np\n",
    "sys.path.append(\"../\")\n",
    "\n",
    "from data_loader import CityScapesNumpy, plot_detections\n",
    "from tracking.tracking_utils import iou_2d\n",
    "from scipy.optimize import linear_sum_assignment"
   ]
  },
  {
   "cell_type": "markdown",
   "metadata": {},
   "source": [
    "# ..."
   ]
  },
  {
   "cell_type": "code",
   "execution_count": 2,
   "metadata": {},
   "outputs": [],
   "source": [
    "ASSIGNMENT_THRESH = 0.0"
   ]
  },
  {
   "cell_type": "code",
   "execution_count": 8,
   "metadata": {},
   "outputs": [],
   "source": [
    "class Track:\n",
    "    def __init__(self, id, label):\n",
    "        self.id = id\n",
    "        self.label = label\n",
    "        self.dets = []\n",
    "        \n",
    "    def add_det(self, det):\n",
    "        self.dets.append(det)\n",
    "        \n",
    "    def get_last_det(self):\n",
    "        return self.dets[-1]\n",
    "        "
   ]
  },
  {
   "cell_type": "code",
   "execution_count": 4,
   "metadata": {},
   "outputs": [],
   "source": [
    "def get_track(idd, tracks):\n",
    "    for track in tracks:\n",
    "        if track.id == idd:\n",
    "            return track\n",
    "        \n",
    "def get_track_idx(idd, tracks):\n",
    "    for i, track in enumerate(tracks):\n",
    "        if track.id == idd:\n",
    "            return i"
   ]
  },
  {
   "cell_type": "code",
   "execution_count": 5,
   "metadata": {},
   "outputs": [
    {
     "name": "stderr",
     "output_type": "stream",
     "text": [
      "  0%|▎                                                                                 | 2/599 [00:00<00:35, 16.92it/s]"
     ]
    },
    {
     "name": "stdout",
     "output_type": "stream",
     "text": [
      "Loading data into array...\n"
     ]
    },
    {
     "name": "stderr",
     "output_type": "stream",
     "text": [
      "100%|████████████████████████████████████████████████████████████████████████████████| 599/599 [00:32<00:00, 18.64it/s]\n"
     ]
    },
    {
     "name": "stdout",
     "output_type": "stream",
     "text": [
      "Size of data:  2709847248\n"
     ]
    }
   ],
   "source": [
    "data_set = CityScapesNumpy()"
   ]
  },
  {
   "cell_type": "code",
   "execution_count": 17,
   "metadata": {},
   "outputs": [
    {
     "name": "stdout",
     "output_type": "stream",
     "text": [
      "0 10\n",
      "pairs: []\n",
      "unmatched dets: [0, 1, 2, 3, 4, 5, 6, 7, 8, 9]\n",
      "unmatched hyps: []\n",
      "[<__main__.Track object at 0x000002F12F6FAE08>, <__main__.Track object at 0x000002F1002A8108>, <__main__.Track object at 0x000002F12F6FAEC8>, <__main__.Track object at 0x000002F12F6FAE48>, <__main__.Track object at 0x000002F12F6FABC8>, <__main__.Track object at 0x000002F12F6FAD88>, <__main__.Track object at 0x000002F12F6FAF48>, <__main__.Track object at 0x000002F12F6FADC8>, <__main__.Track object at 0x000002F12F6FAF88>, <__main__.Track object at 0x000002F12F6FAD48>]\n",
      "10 7\n",
      "pairs: [(0, 0), (1, 2), (2, 1), (3, 3), (4, 4), (5, 6), (6, 8)]\n",
      "unmatched dets: [5]\n",
      "unmatched hyps: [7, 8, 9]\n"
     ]
    },
    {
     "ename": "AttributeError",
     "evalue": "'NoneType' object has no attribute 'add_det'",
     "output_type": "error",
     "traceback": [
      "\u001b[1;31m---------------------------------------------------------------------------\u001b[0m",
      "\u001b[1;31mAttributeError\u001b[0m                            Traceback (most recent call last)",
      "\u001b[1;32m<ipython-input-17-ad324831d191>\u001b[0m in \u001b[0;36m<module>\u001b[1;34m\u001b[0m\n\u001b[0;32m     46\u001b[0m     \u001b[1;32mfor\u001b[0m \u001b[1;33m(\u001b[0m\u001b[0mdet_idx\u001b[0m\u001b[1;33m,\u001b[0m \u001b[0mhyp_idx\u001b[0m\u001b[1;33m)\u001b[0m \u001b[1;32min\u001b[0m \u001b[0mpairs\u001b[0m\u001b[1;33m:\u001b[0m\u001b[1;33m\u001b[0m\u001b[1;33m\u001b[0m\u001b[0m\n\u001b[0;32m     47\u001b[0m         \u001b[0mtrack\u001b[0m \u001b[1;33m=\u001b[0m \u001b[0mget_track\u001b[0m\u001b[1;33m(\u001b[0m\u001b[0mold_ids\u001b[0m\u001b[1;33m[\u001b[0m\u001b[0mhyp_idx\u001b[0m\u001b[1;33m]\u001b[0m\u001b[1;33m,\u001b[0m \u001b[0mtracks\u001b[0m\u001b[1;33m)\u001b[0m\u001b[1;33m\u001b[0m\u001b[1;33m\u001b[0m\u001b[0m\n\u001b[1;32m---> 48\u001b[1;33m         \u001b[0mtrack\u001b[0m\u001b[1;33m.\u001b[0m\u001b[0madd_det\u001b[0m\u001b[1;33m(\u001b[0m\u001b[0mboxes_next\u001b[0m\u001b[1;33m[\u001b[0m\u001b[0mdet_idx\u001b[0m\u001b[1;33m]\u001b[0m\u001b[1;33m)\u001b[0m\u001b[1;33m\u001b[0m\u001b[1;33m\u001b[0m\u001b[0m\n\u001b[0m\u001b[0;32m     49\u001b[0m \u001b[1;33m\u001b[0m\u001b[0m\n\u001b[0;32m     50\u001b[0m     \u001b[0mprint\u001b[0m\u001b[1;33m(\u001b[0m\u001b[0mtracks\u001b[0m\u001b[1;33m)\u001b[0m\u001b[1;33m\u001b[0m\u001b[1;33m\u001b[0m\u001b[0m\n",
      "\u001b[1;31mAttributeError\u001b[0m: 'NoneType' object has no attribute 'add_det'"
     ]
    }
   ],
   "source": [
    "tracks = []\n",
    "cur_id = 0\n",
    "tracking_category = 3 # class car\n",
    "\n",
    "for i in range(len(data_set)):\n",
    "    # TODO: filter class\n",
    "    if tracks:\n",
    "        old_boxes = [track.get_last_det()for track in tracks]\n",
    "        old_ids = [track.id for track in tracks] \n",
    "    else:\n",
    "        old_boxes = []\n",
    "        \n",
    "    img_next, boxes_next, lbls_next, scrs_next = data_set.get_idx(i)\n",
    "    \n",
    "    category_mask = lbls_next == tracking_category\n",
    "    boxes_next, lbls_next, scrs_next = boxes_next[category_mask], lbls_next[category_mask], scrs_next[category_mask]\n",
    "    \n",
    "    pair_cost = np.array([[iou_2d(bx1, bx2) for bx1 in old_boxes] for bx2 in boxes_next])\n",
    "    pair_cost *= -1\n",
    "    row_ind, col_ind = linear_sum_assignment(pair_cost)\n",
    "        \n",
    "    pairs = [(row_ind[j], col_ind[j]) for j, _ in enumerate(row_ind) \n",
    "                 if  pair_cost[row_ind[j]][col_ind[j]] < ASSIGNMENT_THRESH]\n",
    "    \n",
    "    unmatched_dets = [j for j, _ in enumerate(lbls_next) if j not in col_ind]\n",
    "    unmatched_hyps = [j for j in range(len(old_boxes)) if j not in row_ind]\n",
    "    \n",
    "    print(len(tracks), len(lbls_next))\n",
    "    print(\"pairs:\", pairs)\n",
    "    print(\"unmatched dets:\", unmatched_dets)\n",
    "    print(\"unmatched hyps:\", unmatched_hyps)\n",
    "    \n",
    "    # Kill unmatched hyps\n",
    "    for hyp_idx in unmatched_hyps:\n",
    "        track_idx = get_track_idx(old_ids[hyp_idx], tracks)\n",
    "        tracks.pop(track_idx)\n",
    "    \n",
    "    # Spawn unmatched detections\n",
    "    for det_idx in unmatched_dets:\n",
    "        new_track = Track(cur_id, lbls_next[det_idx])\n",
    "        new_track.add_det(boxes_next[det_idx])\n",
    "        cur_id += 1\n",
    "        tracks.append(new_track)\n",
    "        \n",
    "    # Update pairs\n",
    "    for (det_idx, hyp_idx) in pairs:\n",
    "        track = get_track(old_ids[hyp_idx], tracks)\n",
    "        track.add_det(boxes_next[det_idx])\n",
    "    \n",
    "    print(tracks)\n",
    "    "
   ]
  },
  {
   "cell_type": "code",
   "execution_count": null,
   "metadata": {},
   "outputs": [],
   "source": []
  },
  {
   "cell_type": "code",
   "execution_count": null,
   "metadata": {},
   "outputs": [],
   "source": []
  },
  {
   "cell_type": "code",
   "execution_count": null,
   "metadata": {},
   "outputs": [],
   "source": [
    "for i in range(len(data_set)):\n",
    "    img, bx, lbl, scrs = data_set.get_idx(i)\n",
    "    plot_detections(img, bx, lbl, scrs, categories=[1, 2, 3, 4, 5, 6, 7, 8, 8, 10])"
   ]
  }
 ],
 "metadata": {
  "kernelspec": {
   "display_name": "Python (speedhack)",
   "language": "python",
   "name": "speedhack"
  },
  "language_info": {
   "codemirror_mode": {
    "name": "ipython",
    "version": 3
   },
   "file_extension": ".py",
   "mimetype": "text/x-python",
   "name": "python",
   "nbconvert_exporter": "python",
   "pygments_lexer": "ipython3",
   "version": "3.7.9"
  }
 },
 "nbformat": 4,
 "nbformat_minor": 2
}
