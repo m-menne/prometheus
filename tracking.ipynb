{
 "cells": [
  {
   "cell_type": "markdown",
   "metadata": {},
   "source": [
    "# Data Generation Example"
   ]
  },
  {
   "cell_type": "code",
   "execution_count": 1,
   "metadata": {},
   "outputs": [],
   "source": [
    "import sys\n",
    "import numpy as np\n",
    "import matplotlib.pyplot as plt\n",
    "import matplotlib.colors as mcolors\n",
    "import glob\n",
    "from tqdm import tqdm\n",
    "sys.path.append(\"../\")\n",
    "\n",
    "from data_loader import CityScapesNumpy, COCO_INSTANCE_CATEGORY_NAMES\n",
    "from tracking.tracking_utils import iou_2d\n",
    "from scipy.optimize import linear_sum_assignment"
   ]
  },
  {
   "cell_type": "markdown",
   "metadata": {},
   "source": [
    "# ..."
   ]
  },
  {
   "cell_type": "code",
   "execution_count": 2,
   "metadata": {},
   "outputs": [],
   "source": [
    "_COLORS = list(mcolors.CSS4_COLORS)\n",
    "ASSIGNMENT_THRESH = 0.0\n",
    "OTHER_CATEGORIES = objects = [2, 4, 6, 7, 8,  10, 13, 18]"
   ]
  },
  {
   "cell_type": "code",
   "execution_count": 24,
   "metadata": {},
   "outputs": [],
   "source": [
    "def plot_detections(ax, boxes, labels, scores, categories, ids=None, score_thresh=0.5):\n",
    "    \"\"\"\"\"\"\n",
    "\n",
    "    for i, _ in enumerate(scores):\n",
    "        if scores[i] > score_thresh and labels[i] in categories:\n",
    "            x1, y1, x2, y2 = boxes[i]\n",
    "\n",
    "            if ids is not None:\n",
    "                string = str(COCO_INSTANCE_CATEGORY_NAMES[labels[i]]) + \" \" + str(ids[i]) + \", score: \" + \"{:.3f}\".format(scores[i])\n",
    "                col_idx = ids[i]  if ids[i] < len(_COLORS) else ids[i] % len(_COLORS)\n",
    "                col = _COLORS[col_idx]\n",
    "                if labels[i] == 3 and x1 < 1500:\n",
    "                    ax.text(x1, y1-10, string, color=col, fontsize=4)\n",
    "            else:\n",
    "                col = \"k\"#_COLORS[labels[i]]\n",
    "\n",
    "            ax.plot([x1, x1], [y1, y2], color=col)\n",
    "            ax.plot([x2, x2], [y1, y2], color=col)\n",
    "            ax.plot([x1, x2], [y1, y1], color=col)\n",
    "            ax.plot([x2, x1], [y2, y2], color=col)"
   ]
  },
  {
   "cell_type": "code",
   "execution_count": 4,
   "metadata": {},
   "outputs": [],
   "source": [
    "data_set = CityScapesNumpy(base_dir=\"D:\\\\Random\\\\Cityscapes\\\\final_segmented\\\\stuttgart_00\\\\\")"
   ]
  },
  {
   "cell_type": "code",
   "execution_count": 5,
   "metadata": {},
   "outputs": [],
   "source": [
    "class Tracker:\n",
    "    def __init__(self, category, boxes, labels, scores):\n",
    "        self.category = category\n",
    "        \n",
    "        category_mask = labels == self.category\n",
    "        boxes, labels, scores = boxes[category_mask], labels[category_mask], scores[category_mask]\n",
    "        \n",
    "        self.known_ids = np.arange(len(labels))\n",
    "        self.known_boxes = boxes\n",
    "        self.cur_id = len(labels)\n",
    "        \n",
    "    def run(self, boxes, labels, scores):\n",
    "        category_mask = labels == self.category\n",
    "        boxes, labels, scores = boxes[category_mask], labels[category_mask], scores[category_mask]\n",
    "        \n",
    "        pair_cost = np.array([[iou_2d(bx1, bx2) for bx2 in boxes] for bx1 in self.known_boxes])\n",
    "        pair_cost *= -1\n",
    "\n",
    "        if pair_cost.shape[0] == 0:\n",
    "            pairs = []\n",
    "\n",
    "        else:\n",
    "\n",
    "            row_ind, col_ind = linear_sum_assignment(pair_cost)\n",
    "\n",
    "            pairs = [(row_ind[j], col_ind[j]) for j, _ in enumerate(row_ind) \n",
    "                         if  pair_cost[row_ind[j]][col_ind[j]] < ASSIGNMENT_THRESH]\n",
    "\n",
    "        new_ids = [None] * len(labels)\n",
    "\n",
    "        # print(len(known_ids), len(new_ids))\n",
    "        # print(\"pairs:\", pairs)\n",
    "\n",
    "        # Update known detections\n",
    "        for pair in pairs:\n",
    "            old_idx, new_idx = pair\n",
    "            new_ids[new_idx] = self.known_ids[old_idx]\n",
    "\n",
    "        # Spawn unmatched dets\n",
    "        for i, id in enumerate(new_ids):\n",
    "            if id is None:\n",
    "                new_ids[i] = self.cur_id\n",
    "                self.cur_id += 1\n",
    "\n",
    "        self.known_boxes = boxes\n",
    "        self.known_ids = new_ids\n",
    "        \n",
    "        return new_ids, boxes, labels, scores     "
   ]
  },
  {
   "cell_type": "code",
   "execution_count": 25,
   "metadata": {},
   "outputs": [
    {
     "name": "stderr",
     "output_type": "stream",
     "text": [
      "100%|████████████████████████████████████████████████████████████████████████████████| 598/598 [10:02<00:00,  1.01s/it]\n"
     ]
    },
    {
     "data": {
      "image/png": "[encoded data removed]",
      "text/plain": [
       "<Figure size 432x288 with 1 Axes>"
      ]
     },
     "metadata": {
      "needs_background": "light"
     },
     "output_type": "display_data"
    }
   ],
   "source": [
    "images = glob.glob(\"D:\\\\Random\\\\Cityscapes\\\\final_segmented\\\\stuttgart_00\\\\\" + \"\\\\*.png\")\n",
    "target_dir = \"D:\\Random\\Cityscapes\\seg+track\\\\\"\n",
    "\n",
    "img, boxes, lbls, scrs = data_set.get(images[0])\n",
    "car_tracker = Tracker(3, boxes, lbls, scrs)\n",
    "ped_tracker = Tracker(1, boxes, lbls, scrs)\n",
    "\n",
    "fig, ax = plt.subplots()\n",
    "\n",
    "for i in tqdm(range(1, len(images))):\n",
    "    img_next, boxes_next, lbls_next, scrs_next = data_set.get(images[i])\n",
    "    \n",
    "    car_ids, car_boxes, car_labels, car_scores = car_tracker.run(boxes_next, lbls_next, scrs_next)\n",
    "    ped_ids, ped_boxes, ped_labels, ped_scores = ped_tracker.run(boxes_next, lbls_next, scrs_next)\n",
    "    \n",
    "    car_mask = lbls_next == 3\n",
    "    ped_mask = lbls_next == 1\n",
    "    \n",
    "    car_ped_mask = np.logical_and(car_mask, ped_mask)\n",
    "    not_car_ped_mask = np.logical_not(car_ped_mask)\n",
    "    \n",
    "    \n",
    "    other_boxes = boxes_next[not_car_ped_mask] \n",
    "    other_labels = lbls_next[not_car_ped_mask] \n",
    "    other_scores = scrs_next[not_car_ped_mask]\n",
    "    \n",
    "\n",
    "    ax.imshow(img_next)\n",
    "    plot_detections(ax, other_boxes, other_labels, other_scores, OTHER_CATEGORIES)\n",
    "    plot_detections(ax, car_boxes, car_labels, car_scores, [3], ids=car_ids)\n",
    "    plot_detections(ax, ped_boxes, ped_labels, ped_scores, [1], ids=ped_ids)\n",
    "    \n",
    "    plt.axis('off')\n",
    "    plt.setp(ax.get_xticklabels(), visible=False)\n",
    "    plt.setp(ax.get_yticklabels(), visible=False)\n",
    "\n",
    "    plt.savefig(target_dir + str(i) + \".png\",dpi=200, bbox_inches='tight')\n",
    "    ax.clear()\n",
    "    "
   ]
  },
  {
   "cell_type": "code",
   "execution_count": null,
   "metadata": {},
   "outputs": [],
   "source": []
  },
  {
   "cell_type": "code",
   "execution_count": null,
   "metadata": {},
   "outputs": [],
   "source": []
  }
 ],
 "metadata": {
  "kernelspec": {
   "display_name": "Python (speedhack)",
   "language": "python",
   "name": "speedhack"
  },
  "language_info": {
   "codemirror_mode": {
    "name": "ipython",
    "version": 3
   },
   "file_extension": ".py",
   "mimetype": "text/x-python",
   "name": "python",
   "nbconvert_exporter": "python",
   "pygments_lexer": "ipython3",
   "version": "3.7.9"
  }
 },
 "nbformat": 4,
 "nbformat_minor": 2
}
